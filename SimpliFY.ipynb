{
 "cells": [
  {
   "cell_type": "code",
   "execution_count": null,
   "id": "426fdf1f",
   "metadata": {},
   "outputs": [],
   "source": []
  },
  {
   "cell_type": "markdown",
   "id": "dbea4087",
   "metadata": {},
   "source": [
    "# Question 1 : Write a python code for converting integer values to Indian currency notations, without  using the currency libraries ."
   ]
  },
  {
   "cell_type": "code",
   "execution_count": 48,
   "id": "15463a0b",
   "metadata": {},
   "outputs": [
    {
     "name": "stdout",
     "output_type": "stream",
     "text": [
      "1,23,45,99,709\n"
     ]
    }
   ],
   "source": [
    "def inr_notation(number):\n",
    "    \n",
    "    # Converting number to string and split into integer and decimal parts\n",
    "    parts = str(number).split(\".\")\n",
    "    \n",
    "    s = parts[0]\n",
    "    \n",
    "    d = parts[1:] if len(parts) > 1 else []\n",
    "\n",
    "    # Generating comma-separated groups of digits for the integer part\n",
    "    comma_groups = [s[x-2:x] for x in range(-3, -len(s), -2)]\n",
    "\n",
    "    # Reversing the order of comma-separated groups\n",
    "    reversed_comma_groups = comma_groups[::-1]\n",
    "\n",
    "    # Extracting the last three digits\n",
    "    last_three_digits = [s[-3:]]\n",
    "\n",
    "    # Concatenating the reversed comma-separated groups with the last three digits\n",
    "    formatted_integer_part = reversed_comma_groups + last_three_digits\n",
    "\n",
    "    # Joining the formatted integer part with the decimal part (if any)\n",
    "    formatted_number = \"\".join([\",\".join(formatted_integer_part)] + d)\n",
    "\n",
    "    return formatted_number\n",
    "\n",
    "# calling the function\n",
    "print(inr_notation(1234599709))\n"
   ]
  },
  {
   "cell_type": "markdown",
   "id": "64acfa0e",
   "metadata": {},
   "source": [
    "# Question 2 : You won’t get caught if you hide behind someone."
   ]
  },
  {
   "cell_type": "code",
   "execution_count": 45,
   "id": "17d605fa",
   "metadata": {},
   "outputs": [
    {
     "name": "stdout",
     "output_type": "stream",
     "text": [
      "2\n",
      "1\n",
      "0\n"
     ]
    }
   ],
   "source": [
    "# Defining a function to calculate the minimum number of players who need to get shot\n",
    "\n",
    "def min_players_to_get_shot(T, test_cases):\n",
    "  # Initialising an empty list to store the results for each test case\n",
    "\n",
    "    results = []\n",
    "    for case in test_cases:\n",
    "        N, K, heights = case\n",
    "        count = sum(1 for height in heights if height > K)\n",
    "        results.append(count)\n",
    "    return results\n",
    "\n",
    "# Sample Input\n",
    "T = 3\n",
    "\n",
    "test_cases = [\n",
    "    (4, 10, [2, 13, 4, 16]),\n",
    "    (5, 8, [9, 3, 8, 8, 4]),\n",
    "    (4, 6, [1, 2, 3, 4])\n",
    "]\n",
    "\n",
    "# Calling the function \n",
    "\n",
    "output = min_players_to_get_shot(T, test_cases)\n",
    "\n",
    "# Showing the result\n",
    "\n",
    "for result in output:\n",
    "    print(result)\n"
   ]
  },
  {
   "cell_type": "code",
   "execution_count": null,
   "id": "39770483",
   "metadata": {},
   "outputs": [],
   "source": []
  },
  {
   "cell_type": "code",
   "execution_count": null,
   "id": "c69e7314",
   "metadata": {},
   "outputs": [],
   "source": []
  },
  {
   "cell_type": "code",
   "execution_count": null,
   "id": "f16286cf",
   "metadata": {},
   "outputs": [],
   "source": []
  }
 ],
 "metadata": {
  "kernelspec": {
   "display_name": "Python 3 (ipykernel)",
   "language": "python",
   "name": "python3"
  },
  "language_info": {
   "codemirror_mode": {
    "name": "ipython",
    "version": 3
   },
   "file_extension": ".py",
   "mimetype": "text/x-python",
   "name": "python",
   "nbconvert_exporter": "python",
   "pygments_lexer": "ipython3",
   "version": "3.9.7"
  }
 },
 "nbformat": 4,
 "nbformat_minor": 5
}
